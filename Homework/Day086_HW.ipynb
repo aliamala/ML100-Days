{
 "cells": [
  {
   "cell_type": "markdown",
   "metadata": {},
   "source": [
    "## Work\n",
    "1. 試比較 save_best_only 與否的差異\n",
    "2. 請僅存入將 save_weights_only 設定為 True, 並嘗試 reset ipynb 並將模型與權重重新建回並預測 x_test"
   ]
  },
  {
   "cell_type": "code",
   "execution_count": 3,
   "metadata": {},
   "outputs": [],
   "source": [
    "import os\n",
    "import keras\n",
    "import tensorflow as tf\n",
    "\n",
    "# Disable GPU\n",
    "os.environ[\"CUDA_VISIBLE_DEVICES\"] = \"0\""
   ]
  },
  {
   "cell_type": "code",
   "execution_count": 4,
   "metadata": {},
   "outputs": [],
   "source": [
    "train, test = keras.datasets.cifar10.load_data()"
   ]
  },
  {
   "cell_type": "code",
   "execution_count": 5,
   "metadata": {},
   "outputs": [],
   "source": [
    "## 資料前處理\n",
    "def preproc_x(x, flatten=True):\n",
    "    x = x / 255.\n",
    "    if flatten:\n",
    "        x = x.reshape((len(x), -1))\n",
    "    return x\n",
    "\n",
    "def preproc_y(y, num_classes=10):\n",
    "    if y.shape[-1] == 1:\n",
    "        y = keras.utils.to_categorical(y, num_classes)\n",
    "    return y    "
   ]
  },
  {
   "cell_type": "code",
   "execution_count": 6,
   "metadata": {},
   "outputs": [],
   "source": [
    "x_train, y_train = train\n",
    "x_test, y_test = test\n",
    "\n",
    "# Preproc the inputs\n",
    "x_train = preproc_x(x_train)\n",
    "x_test = preproc_x(x_test)\n",
    "\n",
    "# Preprc the outputs\n",
    "y_train = preproc_y(y_train)\n",
    "y_test = preproc_y(y_test)"
   ]
  },
  {
   "cell_type": "code",
   "execution_count": 7,
   "metadata": {},
   "outputs": [],
   "source": [
    "from keras.layers import BatchNormalization\n",
    "def build_mlp(input_shape, output_units=10, num_neurons=[512, 256, 128]):\n",
    "    input_layer = keras.layers.Input(input_shape)\n",
    "    \n",
    "    for i, n_units in enumerate(num_neurons):\n",
    "        if i == 0:\n",
    "            x = keras.layers.Dense(units=n_units, \n",
    "                                   activation=\"relu\", \n",
    "                                   name=\"hidden_layer\"+str(i+1))(input_layer)\n",
    "            x = BatchNormalization()(x)\n",
    "        else:\n",
    "            x = keras.layers.Dense(units=n_units, \n",
    "                                   activation=\"relu\", \n",
    "                                   name=\"hidden_layer\"+str(i+1))(x)\n",
    "            x = BatchNormalization()(x)\n",
    "    \n",
    "    out = keras.layers.Dense(units=output_units, activation=\"softmax\", name=\"output\")(x)\n",
    "    \n",
    "    model = keras.models.Model(inputs=[input_layer], outputs=[out])\n",
    "    return model"
   ]
  },
  {
   "cell_type": "code",
   "execution_count": 8,
   "metadata": {},
   "outputs": [],
   "source": [
    "## 超參數設定\n",
    "LEARNING_RATE = 1e-3\n",
    "EPOCHS = 50\n",
    "BATCH_SIZE = 1024\n",
    "MOMENTUM = 0.95"
   ]
  },
  {
   "cell_type": "code",
   "execution_count": 9,
   "metadata": {},
   "outputs": [],
   "source": [
    "# 載入 Callbacks\n",
    "from keras.callbacks import ModelCheckpoint\n",
    "\n",
    "model_ckpt = ModelCheckpoint(filepath=\"./tmp.h5\", \n",
    "                             monitor=\"val_loss\", \n",
    "                             save_best_only=True)"
   ]
  },
  {
   "cell_type": "code",
   "execution_count": 10,
   "metadata": {
    "scrolled": true
   },
   "outputs": [
    {
     "name": "stdout",
     "output_type": "stream",
     "text": [
      "_________________________________________________________________\n",
      "Layer (type)                 Output Shape              Param #   \n",
      "=================================================================\n",
      "input_1 (InputLayer)         (None, 3072)              0         \n",
      "_________________________________________________________________\n",
      "hidden_layer1 (Dense)        (None, 512)               1573376   \n",
      "_________________________________________________________________\n",
      "batch_normalization_1 (Batch (None, 512)               2048      \n",
      "_________________________________________________________________\n",
      "hidden_layer2 (Dense)        (None, 256)               131328    \n",
      "_________________________________________________________________\n",
      "batch_normalization_2 (Batch (None, 256)               1024      \n",
      "_________________________________________________________________\n",
      "hidden_layer3 (Dense)        (None, 128)               32896     \n",
      "_________________________________________________________________\n",
      "batch_normalization_3 (Batch (None, 128)               512       \n",
      "_________________________________________________________________\n",
      "output (Dense)               (None, 10)                1290      \n",
      "=================================================================\n",
      "Total params: 1,742,474\n",
      "Trainable params: 1,740,682\n",
      "Non-trainable params: 1,792\n",
      "_________________________________________________________________\n",
      "Train on 50000 samples, validate on 10000 samples\n",
      "Epoch 1/50\n",
      "50000/50000 [==============================] - 10s 196us/step - loss: 2.2241 - acc: 0.2658 - val_loss: 2.1369 - val_acc: 0.3146\n",
      "Epoch 2/50\n",
      "50000/50000 [==============================] - 13s 260us/step - loss: 1.7435 - acc: 0.3924 - val_loss: 1.7906 - val_acc: 0.3793\n",
      "Epoch 3/50\n",
      "50000/50000 [==============================] - 14s 277us/step - loss: 1.6175 - acc: 0.4333 - val_loss: 1.6833 - val_acc: 0.4161\n",
      "Epoch 4/50\n",
      "50000/50000 [==============================] - 13s 263us/step - loss: 1.5448 - acc: 0.4600 - val_loss: 1.6369 - val_acc: 0.4271\n",
      "Epoch 5/50\n",
      "50000/50000 [==============================] - 14s 290us/step - loss: 1.4908 - acc: 0.4796 - val_loss: 1.5943 - val_acc: 0.4417\n",
      "Epoch 6/50\n",
      "50000/50000 [==============================] - 16s 319us/step - loss: 1.4466 - acc: 0.4950 - val_loss: 1.5810 - val_acc: 0.4431\n",
      "Epoch 7/50\n",
      "50000/50000 [==============================] - 16s 326us/step - loss: 1.4065 - acc: 0.5108 - val_loss: 1.5537 - val_acc: 0.4531\n",
      "Epoch 8/50\n",
      "50000/50000 [==============================] - 16s 330us/step - loss: 1.3714 - acc: 0.5223 - val_loss: 1.5343 - val_acc: 0.4627\n",
      "Epoch 9/50\n",
      "50000/50000 [==============================] - 18s 356us/step - loss: 1.3401 - acc: 0.5332 - val_loss: 1.5204 - val_acc: 0.4631\n",
      "Epoch 10/50\n",
      "50000/50000 [==============================] - 18s 355us/step - loss: 1.3116 - acc: 0.5442 - val_loss: 1.5034 - val_acc: 0.4704\n",
      "Epoch 11/50\n",
      "50000/50000 [==============================] - 17s 330us/step - loss: 1.2822 - acc: 0.5550 - val_loss: 1.5045 - val_acc: 0.4717\n",
      "Epoch 12/50\n",
      "50000/50000 [==============================] - 15s 306us/step - loss: 1.2579 - acc: 0.5644 - val_loss: 1.4879 - val_acc: 0.4761\n",
      "Epoch 13/50\n",
      "50000/50000 [==============================] - 15s 297us/step - loss: 1.2324 - acc: 0.5738 - val_loss: 1.4745 - val_acc: 0.4803\n",
      "Epoch 14/50\n",
      "50000/50000 [==============================] - 15s 292us/step - loss: 1.2054 - acc: 0.5833 - val_loss: 1.4745 - val_acc: 0.4740\n",
      "Epoch 15/50\n",
      "50000/50000 [==============================] - 15s 304us/step - loss: 1.1812 - acc: 0.5919 - val_loss: 1.4689 - val_acc: 0.4830\n",
      "Epoch 16/50\n",
      "50000/50000 [==============================] - 15s 301us/step - loss: 1.1591 - acc: 0.6005 - val_loss: 1.4752 - val_acc: 0.4811\n",
      "Epoch 17/50\n",
      "50000/50000 [==============================] - 16s 327us/step - loss: 1.1363 - acc: 0.6091 - val_loss: 1.4570 - val_acc: 0.4885\n",
      "Epoch 18/50\n",
      "50000/50000 [==============================] - 15s 290us/step - loss: 1.1130 - acc: 0.6175 - val_loss: 1.4635 - val_acc: 0.4885\n",
      "Epoch 19/50\n",
      "50000/50000 [==============================] - 15s 304us/step - loss: 1.0928 - acc: 0.6257 - val_loss: 1.4570 - val_acc: 0.4920\n",
      "Epoch 20/50\n",
      "50000/50000 [==============================] - 15s 295us/step - loss: 1.0674 - acc: 0.6363 - val_loss: 1.4721 - val_acc: 0.4816\n",
      "Epoch 21/50\n",
      "50000/50000 [==============================] - 16s 311us/step - loss: 1.0455 - acc: 0.6434 - val_loss: 1.4686 - val_acc: 0.4898\n",
      "Epoch 22/50\n",
      "50000/50000 [==============================] - 18s 357us/step - loss: 1.0263 - acc: 0.6505 - val_loss: 1.4636 - val_acc: 0.4875\n",
      "Epoch 23/50\n",
      "50000/50000 [==============================] - 19s 388us/step - loss: 1.0036 - acc: 0.6611 - val_loss: 1.4569 - val_acc: 0.4885\n",
      "Epoch 24/50\n",
      "50000/50000 [==============================] - 19s 374us/step - loss: 0.9848 - acc: 0.6666 - val_loss: 1.4621 - val_acc: 0.4901\n",
      "Epoch 25/50\n",
      "50000/50000 [==============================] - 19s 379us/step - loss: 0.9628 - acc: 0.6768 - val_loss: 1.4692 - val_acc: 0.4898\n",
      "Epoch 26/50\n",
      "50000/50000 [==============================] - 19s 386us/step - loss: 0.9424 - acc: 0.6828 - val_loss: 1.4705 - val_acc: 0.4943\n",
      "Epoch 27/50\n",
      "50000/50000 [==============================] - 19s 386us/step - loss: 0.9225 - acc: 0.6918 - val_loss: 1.4770 - val_acc: 0.4909\n",
      "Epoch 28/50\n",
      "50000/50000 [==============================] - 17s 336us/step - loss: 0.9028 - acc: 0.6998 - val_loss: 1.4916 - val_acc: 0.4900\n",
      "Epoch 29/50\n",
      "50000/50000 [==============================] - 17s 344us/step - loss: 0.8808 - acc: 0.7081 - val_loss: 1.4850 - val_acc: 0.4919\n",
      "Epoch 30/50\n",
      "50000/50000 [==============================] - 17s 333us/step - loss: 0.8627 - acc: 0.7156 - val_loss: 1.5030 - val_acc: 0.4864\n",
      "Epoch 31/50\n",
      "50000/50000 [==============================] - 16s 320us/step - loss: 0.8426 - acc: 0.7231 - val_loss: 1.4998 - val_acc: 0.4932\n",
      "Epoch 32/50\n",
      "50000/50000 [==============================] - 15s 301us/step - loss: 0.8216 - acc: 0.7325 - val_loss: 1.5091 - val_acc: 0.4941\n",
      "Epoch 33/50\n",
      "50000/50000 [==============================] - 19s 383us/step - loss: 0.8006 - acc: 0.7401 - val_loss: 1.5016 - val_acc: 0.4915\n",
      "Epoch 34/50\n",
      "50000/50000 [==============================] - 25s 500us/step - loss: 0.7829 - acc: 0.7464 - val_loss: 1.5039 - val_acc: 0.4945\n",
      "Epoch 35/50\n",
      "50000/50000 [==============================] - 31s 627us/step - loss: 0.7634 - acc: 0.7547 - val_loss: 1.5202 - val_acc: 0.4908\n",
      "Epoch 36/50\n",
      "50000/50000 [==============================] - 19s 377us/step - loss: 0.7449 - acc: 0.7617 - val_loss: 1.5428 - val_acc: 0.4832\n",
      "Epoch 37/50\n",
      "50000/50000 [==============================] - 19s 385us/step - loss: 0.7258 - acc: 0.7700 - val_loss: 1.5366 - val_acc: 0.4851\n",
      "Epoch 38/50\n",
      "50000/50000 [==============================] - 17s 348us/step - loss: 0.7064 - acc: 0.7770 - val_loss: 1.5657 - val_acc: 0.4786\n",
      "Epoch 39/50\n",
      "50000/50000 [==============================] - 18s 361us/step - loss: 0.6877 - acc: 0.7846 - val_loss: 1.5508 - val_acc: 0.4901\n",
      "Epoch 40/50\n",
      "50000/50000 [==============================] - 18s 369us/step - loss: 0.6680 - acc: 0.7928 - val_loss: 1.5709 - val_acc: 0.4915\n",
      "Epoch 41/50\n",
      "50000/50000 [==============================] - 17s 348us/step - loss: 0.6501 - acc: 0.8005 - val_loss: 1.5781 - val_acc: 0.4868\n",
      "Epoch 42/50\n",
      "50000/50000 [==============================] - 17s 338us/step - loss: 0.6329 - acc: 0.8061 - val_loss: 1.5877 - val_acc: 0.4883\n",
      "Epoch 43/50\n",
      "50000/50000 [==============================] - 17s 339us/step - loss: 0.6161 - acc: 0.8139 - val_loss: 1.6084 - val_acc: 0.4822\n",
      "Epoch 44/50\n",
      "50000/50000 [==============================] - 17s 344us/step - loss: 0.5985 - acc: 0.8202 - val_loss: 1.6127 - val_acc: 0.4852\n",
      "Epoch 45/50\n",
      "50000/50000 [==============================] - 17s 336us/step - loss: 0.5789 - acc: 0.8302 - val_loss: 1.6339 - val_acc: 0.4833\n",
      "Epoch 46/50\n",
      "50000/50000 [==============================] - 17s 342us/step - loss: 0.5623 - acc: 0.8360 - val_loss: 1.6362 - val_acc: 0.4893\n",
      "Epoch 47/50\n",
      "50000/50000 [==============================] - 17s 336us/step - loss: 0.5446 - acc: 0.8420 - val_loss: 1.6530 - val_acc: 0.4775\n",
      "Epoch 48/50\n",
      "50000/50000 [==============================] - 18s 354us/step - loss: 0.5298 - acc: 0.8476 - val_loss: 1.6537 - val_acc: 0.4847\n",
      "Epoch 49/50\n"
     ]
    },
    {
     "name": "stdout",
     "output_type": "stream",
     "text": [
      "50000/50000 [==============================] - 16s 326us/step - loss: 0.5112 - acc: 0.8551 - val_loss: 1.6769 - val_acc: 0.4796\n",
      "Epoch 50/50\n",
      "50000/50000 [==============================] - 17s 332us/step - loss: 0.4958 - acc: 0.8610 - val_loss: 1.6818 - val_acc: 0.4822\n",
      "10000/10000 [==============================] - 3s 335us/step\n"
     ]
    }
   ],
   "source": [
    "model = build_mlp(input_shape=x_train.shape[1:])\n",
    "model.summary()\n",
    "optimizer = keras.optimizers.SGD(lr=LEARNING_RATE, nesterov=True, momentum=MOMENTUM)\n",
    "model.compile(loss=\"categorical_crossentropy\", metrics=[\"accuracy\"], optimizer=optimizer)\n",
    "\n",
    "model.fit(x_train, y_train, \n",
    "          epochs=EPOCHS, \n",
    "          batch_size=BATCH_SIZE, \n",
    "          validation_data=(x_test, y_test), \n",
    "          shuffle=True,\n",
    "          callbacks=[model_ckpt]\n",
    "         )\n",
    "\n",
    "# Collect results\n",
    "train_loss = model.history.history[\"loss\"]\n",
    "valid_loss = model.history.history[\"val_loss\"]\n",
    "train_acc = model.history.history[\"acc\"]\n",
    "valid_acc = model.history.history[\"val_acc\"]\n",
    "\n",
    "# Load back\n",
    "model = keras.models.load_model(\"./tmp.h5\")\n",
    "loss_loadback, acc_loadback = model.evaluate(x_test, y_test)"
   ]
  },
  {
   "cell_type": "code",
   "execution_count": 12,
   "metadata": {},
   "outputs": [
    {
     "data": {
      "image/png": "[encoded data removed]",
      "text/plain": [
       "<Figure size 432x288 with 1 Axes>"
      ]
     },
     "metadata": {},
     "output_type": "display_data"
    },
    {
     "data": {
      "image/png": "[encoded data removed]",
      "text/plain": [
       "<Figure size 432x288 with 1 Axes>"
      ]
     },
     "metadata": {},
     "output_type": "display_data"
    }
   ],
   "source": [
    "import matplotlib.pyplot as plt\n",
    "%matplotlib inline\n",
    "\n",
    "plt.plot(range(len(train_loss)), train_loss, label=\"train loss\")\n",
    "plt.plot(range(len(valid_loss)), valid_loss, label=\"valid loss\")\n",
    "plt.hlines(y=loss_loadback, xmin=0, xmax=len(train_loss), colors='r', linestyles='--')\n",
    "plt.legend()\n",
    "plt.title(\"Loss\")\n",
    "plt.show()\n",
    "\n",
    "plt.plot(range(len(train_acc)), train_acc, label=\"train accuracy\")\n",
    "plt.plot(range(len(valid_acc)), valid_acc, label=\"valid accuracy\")\n",
    "plt.hlines(y=acc_loadback, xmin=0, xmax=len(train_loss), colors='r', linestyles='--')\n",
    "plt.legend()\n",
    "plt.title(\"Accuracy\")\n",
    "plt.show()"
   ]
  },
  {
   "cell_type": "code",
   "execution_count": null,
   "metadata": {},
   "outputs": [],
   "source": []
  }
 ],
 "metadata": {
  "anaconda-cloud": {},
  "kernelspec": {
   "display_name": "Python 3",
   "language": "python",
   "name": "python3"
  },
  "language_info": {
   "codemirror_mode": {
    "name": "ipython",
    "version": 3
   },
   "file_extension": ".py",
   "mimetype": "text/x-python",
   "name": "python",
   "nbconvert_exporter": "python",
   "pygments_lexer": "ipython3",
   "version": "3.6.5"
  }
 },
 "nbformat": 4,
 "nbformat_minor": 2
}
